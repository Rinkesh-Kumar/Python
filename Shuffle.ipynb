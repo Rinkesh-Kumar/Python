{
 "cells": [
  {
   "cell_type": "markdown",
   "metadata": {},
   "source": [
    "Problem Statement : Card Shuffle\n",
    "You have 100 cards, numbered 1 to 100. You distribute them into k piles and collect back the piles in order. For\n",
    "example, if you distribute them into 4 piles, then the first pile will contain the cards numbered 1, 5, 9, … and the\n",
    "4\n",
    "th pile will contain the cards numbered 4, 8, 12, …. While collecting back the cards you collect first the last pile,\n",
    "flip it bottom to top, then take the third pile, flip it bottom to top and put the cards on top of the 4th pile and so\n",
    "on. Next round, you distribute the cards into another set of piles and collect in the same manner (last pile first\n",
    "and first pile last).\n",
    "If we have 10 cards, and put them into 2 piles, the order of the cards in the piles (top to bottom) would be\n",
    "9, 7, 5, 3, 1 and 10, 8, 6, 4, 2\n",
    "We flip the piles to get the order\n",
    "1, 3, 5, 7, 9 and 2, 4, 6, 8, 10\n",
    "We put second pile at the bottom and first on top of it to get the deck\n",
    "1, 3, 5, 7, 9, 2, 4, 6, 8, 10\n",
    "Given the number of rounds (m), number of piles in each round (ki), you need to write a program to find the Nth\n",
    "card from the top at the end of the final round.\n",
    "Input\n",
    "The input consists of a single line of (m+2) comma separated integers.\n",
    "The first number is m, the number of rounds. The next m numbers are ki which represent the number of piles in\n",
    "each round.\n",
    "The last number in the input is N, the position in the final pile whose value is to be determined.\n",
    "Output\n",
    "One integer representing the Nth card after all rounds have been played.\n",
    "Constraints\n",
    "Number of rounds <= 10, number of piles in each round <= 13.\n",
    "Example 1\n",
    "Input\n",
    "2, 2, 2, 4\n",
    "Output\n",
    "13\n",
    "Explanation\n",
    "m = 2, k1 = 2, k2 = 2 and N = 4.\n",
    "We have two rounds. The first round has two piles. At the end of the round, the deck is in the following order:\n",
    "1, 3, 5, …, 99, 2, 4, 6, …, 100\n",
    "The next round also has 2 piles and after the second round, the cards are in the order\n",
    "1, 5, 9, 13, ….\n",
    "The fourth card from the top has number 13.\n",
    "Example 2\n",
    "Input\n",
    "3, 2, 2, 3, 2\n",
    "Output\n",
    "13\n",
    "Explanation\n",
    "m = 3, k1 = 2, k2 = 2, k3 = 3 and N = 2.\n",
    "After the second round, the cards are in the order\n",
    "1, 5, 9, 13, …\n",
    "The third round has 3 piles. Thus after this round the cards will be in the order\n",
    "1, 13, ….\n",
    "Second card is 13."
   ]
  },
  {
   "cell_type": "code",
   "execution_count": 5,
   "metadata": {},
   "outputs": [
    {
     "name": "stdout",
     "output_type": "stream",
     "text": [
      "2\n",
      "2\n",
      "2\n",
      "4\n",
      "13\n"
     ]
    }
   ],
   "source": [
    "# Solution\n",
    "deck=list(range(1,101))\n",
    "n=int(input())\n",
    "piles=[]\n",
    "shuffle=[]\n",
    "for i in range (n):\n",
    "    piles.append(int(input()))\n",
    "for i in range (n):\n",
    "    shuffle=[]\n",
    "    for j in range (piles[i]):\n",
    "            shuffle.extend(deck[j::piles[i]])\n",
    "    deck=[]\n",
    "    deck=shuffle\n",
    "m=int(input())\n",
    "print(deck[m-1])"
   ]
  },
  {
   "cell_type": "code",
   "execution_count": null,
   "metadata": {},
   "outputs": [],
   "source": []
  }
 ],
 "metadata": {
  "kernelspec": {
   "display_name": "Python 3",
   "language": "python",
   "name": "python3"
  },
  "language_info": {
   "codemirror_mode": {
    "name": "ipython",
    "version": 3
   },
   "file_extension": ".py",
   "mimetype": "text/x-python",
   "name": "python",
   "nbconvert_exporter": "python",
   "pygments_lexer": "ipython3",
   "version": "3.6.5"
  }
 },
 "nbformat": 4,
 "nbformat_minor": 2
}
